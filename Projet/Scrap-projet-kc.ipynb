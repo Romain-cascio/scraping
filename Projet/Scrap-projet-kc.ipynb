{
 "cells": [
  {
   "cell_type": "code",
   "execution_count": 305,
   "metadata": {},
   "outputs": [],
   "source": [
    "import time\n",
    "from selenium import webdriver\n",
    "from selenium.webdriver.common.by import By\n",
    "from selenium.webdriver.support.ui import WebDriverWait\n",
    "from selenium.webdriver.support import expected_conditions as EC\n",
    "from bs4 import BeautifulSoup\n",
    "import pandas as pd"
   ]
  },
  {
   "cell_type": "code",
   "execution_count": 306,
   "metadata": {},
   "outputs": [],
   "source": [
    "def scroll_page(driver):\n",
    "    try:\n",
    "        # Obtenir la position actuelle de la fenêtre du navigateur\n",
    "        current_position = driver.execute_script(\"return window.pageYOffset;\")\n",
    "        \n",
    "        # Ajouter 500 pixels à la position actuelle pour faire défiler la page vers le bas\n",
    "        new_position = current_position + 700\n",
    "        \n",
    "        # Faire défiler la page vers le bas de 500 pixels\n",
    "        driver.execute_script(f\"window.scrollTo(0, {new_position});\")\n",
    "\n",
    "    except Exception as e:\n",
    "        print(\"Une erreur s'est produite lors du défilement de la page:\", str(e))\n"
   ]
  },
  {
   "cell_type": "code",
   "execution_count": 307,
   "metadata": {},
   "outputs": [],
   "source": [
    "def Click_in_Shadow_DOM(driver):\n",
    "    try:\n",
    "        element = driver.execute_script(\"\"\"return document.querySelector('.needsclick').shadowRoot.querySelector(\"button#axeptio_btn_acceptAll\")\"\"\")\n",
    "        element.click()\n",
    "\n",
    "\n",
    "    except Exception as e:\n",
    "        print(\"An error occurred:\", str(e))\n",
    "        return 0\n"
   ]
  },
  {
   "cell_type": "code",
   "execution_count": 308,
   "metadata": {},
   "outputs": [],
   "source": [
    "def Click(driver, xpath):\n",
    "    try:\n",
    "        # Trouver l'élément à cliquer en utilisant XPath\n",
    "        element = driver.find_element(By.XPATH, xpath)\n",
    "\n",
    "        # Cliquez sur l'élément\n",
    "        element.click()\n",
    "\n",
    "    except Exception as e:\n",
    "        print(\"An error occurred in CLICK:\", str(e))\n",
    "        return 0  "
   ]
  },
  {
   "cell_type": "code",
   "execution_count": 309,
   "metadata": {},
   "outputs": [],
   "source": [
    "def GetText_h2_prices(driver):\n",
    "    try:\n",
    "        # Trouver tous les éléments <h2> à l'intérieur de la div avec l'ID \"shopify-section-template--21223087636821__main\"\n",
    "        h2_elements = driver.find_elements(By.XPATH, '//*[@class=\"product__title\"]//h2')\n",
    "\n",
    "        # Trouver tous les prix des produits à partir des balises <a> avec la classe \"product__price\"\n",
    "        price_elements = driver.find_elements(By.XPATH, '//*[@class=\"product__price\"]//span[@class=\"product__price-value\"]')\n",
    "\n",
    "        # Initialiser deux listes pour stocker les textes des éléments <h2> et les prix des produits\n",
    "        h2_texts = []\n",
    "        prices = []\n",
    "\n",
    "        # Parcourir tous les éléments <h2> et récupérer leur texte\n",
    "        for h2_element in h2_elements:\n",
    "            # Récupérer le texte de l'élément <h2>\n",
    "            h2_text = h2_element.text.strip()\n",
    "            if h2_text:\n",
    "                # Ajouter le texte à la liste des textes <h2>\n",
    "                h2_texts.append(h2_text)\n",
    "\n",
    "        # Parcourir tous les éléments de prix des produits et récupérer leur texte\n",
    "        for price_element in price_elements:\n",
    "            # Récupérer le texte du prix du produit\n",
    "            price_text = price_element.text.strip()\n",
    "            if price_text:\n",
    "                # Ajouter le prix à la liste des prix des produits\n",
    "                prices.append(price_text)\n",
    "\n",
    "        # Retourner les listes de textes <h2> et les prix des produits\n",
    "        return h2_texts, prices\n",
    "\n",
    "    except Exception as e:\n",
    "        print(f\"Erreur lors de l'extraction du texte des éléments <h2> et des prix des produits : {e}\")\n",
    "        return [], []  # En cas d'erreur, retourner des listes vides"
   ]
  },
  {
   "cell_type": "code",
   "execution_count": 311,
   "metadata": {},
   "outputs": [],
   "source": [
    "def main():\n",
    "    driver = webdriver.Chrome()\n",
    "    driver.maximize_window()\n",
    "    # Ouvrir l'URL\n",
    "    url = \"https://www.karminecorp.fr/\"\n",
    "    driver.get(url)\n",
    "    time.sleep(4)\n",
    "    #xpath_popup = '//*[@id=\"axeptio_overlay\"]/div//div/div/div[1]/div[1]/div[1]/span'\n",
    "    Click_in_Shadow_DOM(driver)\n",
    "    #Click(driver, xpath_popup)\n",
    "     \n",
    "    driver.implicitly_wait(10)\n",
    "    xpath_boutique = '//*[@id=\"shopify-section-sections--21223088128341__header\"]/u-header/nav/ul/li[6]/a'\n",
    "    xpath_essential = '//*[@id=\"shopify-section-template--21381985010005__2f02d09a-9073-4fe4-b384-34e7761cf6ef\"]/div/div/div/div[2]/a[1]'\n",
    "    xpath_prokit = '//*[@id=\"shopify-section-template--21381985010005__2f02d09a-9073-4fe4-b384-34e7761cf6ef\"]/div/div/div/div[1]/a[2]'\n",
    "    Click(driver, xpath_boutique)\n",
    "    time.sleep(1)\n",
    "    Click(driver, xpath_boutique)\n",
    "    time.sleep(1)\n",
    "    Click(driver, xpath_essential)\n",
    "    time.sleep(1)\n",
    "    h2_texts, span_texts = GetText_h2_prices(driver)\n",
    "    time.sleep(1)\n",
    "    driver.back()\n",
    "    time.sleep(1)\n",
    "    Click(driver, xpath_prokit)\n",
    "    time.sleep(1)\n",
    "    h2_texts_pro, span_texts_pro = GetText_h2_prices(driver)\n",
    "\n",
    "    h2_texts.extend(h2_texts_pro)\n",
    "    span_texts.extend(span_texts_pro)\n",
    "    \n",
    "    data = {\n",
    "    'Nom_produit': h2_texts,\n",
    "    'Prix': span_texts\n",
    "    }\n",
    "\n",
    "    df = pd.DataFrame(data)\n",
    "    print(df)\n",
    "\n",
    "    time.sleep(3)\n",
    "    driver.quit()"
   ]
  },
  {
   "cell_type": "code",
   "execution_count": 312,
   "metadata": {},
   "outputs": [
    {
     "name": "stdout",
     "output_type": "stream",
     "text": [
      "                         Nom_produit    Prix\n",
      "0              Hoodie Classique Vert  €60,00\n",
      "1                Hoodie Ultra Marron  €50,00\n",
      "2                 T-shirt Ultra Vert  €25,00\n",
      "3               T-shirt Ultra Marron  €25,00\n",
      "4           Jogging Classique Marron  €50,00\n",
      "5           T-shirt Classique Marron  €30,00\n",
      "6             T-shirt Classique Vert  €30,00\n",
      "7            Hoodie Classique Marron  €60,00\n",
      "8                  Hoodie Ultra Vert  €50,00\n",
      "9             Jogging Classique Noir  €50,00\n",
      "10            T-shirt Classique Gris  €30,00\n",
      "11           T-shirt Classique Beige  €30,00\n",
      "12            T-shirt Classique Noir  €30,00\n",
      "13            T-shirt Classique Bleu  €30,00\n",
      "14            Hoodie Classique Beige  €60,00\n",
      "15             Hoodie Classique Bleu  €60,00\n",
      "16             Hoodie Classique Gris  €60,00\n",
      "17             Hoodie Classique Noir  €60,00\n",
      "18                 Hoodie Ultra Bleu  €50,00\n",
      "19                 Hoodie Ultra Gris  €50,00\n",
      "20                 Hoodie Ultra Noir  €50,00\n",
      "21  PRECOMMANDE - Maillot Major 2024  €70,00\n",
      "22                  Maillot pro 2024  €65,00\n",
      "23                Veste Pro Kit 2024  €80,00\n",
      "24              Jogging Pro Kit 2024  €55,00\n"
     ]
    }
   ],
   "source": [
    "if __name__ == \"__main__\":\n",
    "    main()"
   ]
  },
  {
   "cell_type": "code",
   "execution_count": null,
   "metadata": {},
   "outputs": [],
   "source": []
  }
 ],
 "metadata": {
  "kernelspec": {
   "display_name": "base",
   "language": "python",
   "name": "python3"
  },
  "language_info": {
   "codemirror_mode": {
    "name": "ipython",
    "version": 3
   },
   "file_extension": ".py",
   "mimetype": "text/x-python",
   "name": "python",
   "nbconvert_exporter": "python",
   "pygments_lexer": "ipython3",
   "version": "3.9.12"
  },
  "orig_nbformat": 4,
  "vscode": {
   "interpreter": {
    "hash": "3d597f4c481aa0f25dceb95d2a0067e73c0966dcbd003d741d821a7208527ecf"
   }
  }
 },
 "nbformat": 4,
 "nbformat_minor": 2
}
